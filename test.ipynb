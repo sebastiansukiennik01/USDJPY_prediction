{
 "cells": [
  {
   "cell_type": "markdown",
   "metadata": {},
   "source": [
    "# Noteboo for testing JPYModel"
   ]
  },
  {
   "cell_type": "code",
   "execution_count": 1,
   "metadata": {},
   "outputs": [],
   "source": [
    "%load_ext autoreload\n",
    "%autoreload 2\n",
    "import time"
   ]
  },
  {
   "cell_type": "code",
   "execution_count": 41,
   "metadata": {},
   "outputs": [],
   "source": [
    "from Preprocessing import Preprocessing\n",
    "import pandas as pd\n",
    "import tensorflow as tf\n",
    "from tensorflow.keras.models import Model\n",
    "from tensorflow.keras.layers import Dense, Input, Dropout"
   ]
  },
  {
   "cell_type": "code",
   "execution_count": 42,
   "metadata": {},
   "outputs": [
    {
     "name": "stderr",
     "output_type": "stream",
     "text": [
      "/Users/sebastiansukiennik/Desktop/Tensorflow/MyTensorflow/USDJPY_prediction/Preprocessing.py:70: SettingWithCopyWarning: \n",
      "A value is trying to be set on a copy of a slice from a DataFrame.\n",
      "Try using .loc[row_indexer,col_indexer] = value instead\n",
      "\n",
      "See the caveats in the documentation: https://pandas.pydata.org/pandas-docs/stable/user_guide/indexing.html#returning-a-view-versus-a-copy\n",
      "  d[mask] = temp_stand\n",
      "/Users/sebastiansukiennik/Desktop/Tensorflow/MyTensorflow/USDJPY_prediction/Preprocessing.py:70: SettingWithCopyWarning: \n",
      "A value is trying to be set on a copy of a slice from a DataFrame.\n",
      "Try using .loc[row_indexer,col_indexer] = value instead\n",
      "\n",
      "See the caveats in the documentation: https://pandas.pydata.org/pandas-docs/stable/user_guide/indexing.html#returning-a-view-versus-a-copy\n",
      "  d[mask] = temp_stand\n",
      "/Users/sebastiansukiennik/Desktop/Tensorflow/MyTensorflow/USDJPY_prediction/Preprocessing.py:70: SettingWithCopyWarning: \n",
      "A value is trying to be set on a copy of a slice from a DataFrame.\n",
      "Try using .loc[row_indexer,col_indexer] = value instead\n",
      "\n",
      "See the caveats in the documentation: https://pandas.pydata.org/pandas-docs/stable/user_guide/indexing.html#returning-a-view-versus-a-copy\n",
      "  d[mask] = temp_stand\n"
     ]
    }
   ],
   "source": [
    "usdjpy_prep = Preprocessing().\\\n",
    "        loadDataFromCache(fileName='USDJPY_transformed',\n",
    "                          labels=['target_1', 'target_2']).\\\n",
    "        divideTrainTest().\\\n",
    "        standarize().\\\n",
    "        createDataset(batchSize=128,\n",
    "                      prefetch=True).\\\n",
    "        getDataset()\n"
   ]
  },
  {
   "cell_type": "code",
   "execution_count": 43,
   "metadata": {},
   "outputs": [],
   "source": [
    "train = usdjpy_prep[0]\n",
    "validate = usdjpy_prep[1]\n",
    "test = usdjpy_prep[2]"
   ]
  },
  {
   "cell_type": "markdown",
   "metadata": {},
   "source": [
    "## Create model"
   ]
  },
  {
   "cell_type": "code",
   "execution_count": 44,
   "metadata": {},
   "outputs": [],
   "source": [
    "class USDJPYModel(Model):\n",
    "    \n",
    "    def __init__(self, input_shape: int=29, **kwargs) -> None:\n",
    "        \"\"\"\n",
    "        Declare layers and their specifications\n",
    "        \"\"\"\n",
    "        super(USDJPYModel, self).__init__(**kwargs)\n",
    "        self.input_layer = Input(shape=(29, ), name='input_layer')\n",
    "        self.first_dense = Dense(units=64, activation='relu', name='first_dense')\n",
    "        self.second_dense = Dense(units=128, activation='swish', name='second_dense')\n",
    "        self.first_drop = Dropout(0.1, name='first_dropout')\n",
    "        self.third_dense = Dense(units=128, activation='gelu', name='third_dense')\n",
    "        self.first_output = Dense(units=1, name='output_1')\n",
    "        self.second_output = Dense(units=1, activation='sigmoid', name='output2')\n",
    "    \n",
    "    def call(self, inputs):\n",
    "        \"\"\"\n",
    "        Connect layers via functional API interface\n",
    "        \"\"\"\n",
    "        x = self.input_layer(inputs)\n",
    "        x = self.first_dense(x)\n",
    "        x = self.second_dense(x)\n",
    "        x = self.first_drop(x)\n",
    "        x = self.third_dense(x)\n",
    "        out1 = self.first_output(x)\n",
    "        out2 = self.second_output(x)\n",
    "\n",
    "        return out1, out2"
   ]
  },
  {
   "cell_type": "code",
   "execution_count": 45,
   "metadata": {},
   "outputs": [],
   "source": [
    "model = USDJPYModel(29)\n",
    "model.compile(\n",
    "    optimizer='adam',\n",
    "    loss={'output_1': tf.keras.losses.mean_absolute_error, 'output_2': tf.keras.losses.sparse_categorical_crossentropy},\n",
    "    metrics=['accuracy']\n",
    ")"
   ]
  },
  {
   "cell_type": "code",
   "execution_count": 47,
   "metadata": {},
   "outputs": [
    {
     "data": {
      "text/plain": [
       "<PrefetchDataset element_spec=({'Adj_Close': TensorSpec(shape=(None,), dtype=tf.float64, name=None), 'Close': TensorSpec(shape=(None,), dtype=tf.float64, name=None), 'High': TensorSpec(shape=(None,), dtype=tf.float64, name=None), 'Low': TensorSpec(shape=(None,), dtype=tf.float64, name=None), 'Open': TensorSpec(shape=(None,), dtype=tf.float64, name=None), 'Volume': TensorSpec(shape=(None,), dtype=tf.int64, name=None), 'Close_sma_20': TensorSpec(shape=(None,), dtype=tf.float64, name=None), 'Close_sma_50': TensorSpec(shape=(None,), dtype=tf.float64, name=None), 'Close_sma_800': TensorSpec(shape=(None,), dtype=tf.float64, name=None), 'Close_sma_120': TensorSpec(shape=(None,), dtype=tf.float64, name=None), 'Close_sma_150': TensorSpec(shape=(None,), dtype=tf.float64, name=None), 'Close_ema_20': TensorSpec(shape=(None,), dtype=tf.float64, name=None), 'Close_ema_50': TensorSpec(shape=(None,), dtype=tf.float64, name=None), 'Close_ema_800': TensorSpec(shape=(None,), dtype=tf.float64, name=None), 'Close_ema_120': TensorSpec(shape=(None,), dtype=tf.float64, name=None), 'Close_ema_150': TensorSpec(shape=(None,), dtype=tf.float64, name=None), 'Close_rsi': TensorSpec(shape=(None,), dtype=tf.float64, name=None), 'Close_MACD_12_26': TensorSpec(shape=(None,), dtype=tf.float64, name=None), 'Close_MACD_sign_12_26': TensorSpec(shape=(None,), dtype=tf.float64, name=None), 'Close_MACD_diff_12_26': TensorSpec(shape=(None,), dtype=tf.float64, name=None), 'Year': TensorSpec(shape=(None,), dtype=tf.int64, name=None), 'Month': TensorSpec(shape=(None,), dtype=tf.float64, name=None), 'Weekday': TensorSpec(shape=(None,), dtype=tf.float64, name=None), 'Day': TensorSpec(shape=(None,), dtype=tf.float64, name=None), 'Hour': TensorSpec(shape=(None,), dtype=tf.float64, name=None), 'Minute': TensorSpec(shape=(None,), dtype=tf.float64, name=None), 'Candle_body': TensorSpec(shape=(None,), dtype=tf.float64, name=None), 'Candle_wick': TensorSpec(shape=(None,), dtype=tf.float64, name=None), 'Candle_body_wick': TensorSpec(shape=(None,), dtype=tf.float64, name=None), 'target_1': TensorSpec(shape=(None,), dtype=tf.float64, name=None), 'target_2': TensorSpec(shape=(None,), dtype=tf.int64, name=None)}, TensorSpec(shape=(None, 2), dtype=tf.float64, name=None))>"
      ]
     },
     "execution_count": 47,
     "metadata": {},
     "output_type": "execute_result"
    }
   ],
   "source": [
    "train"
   ]
  },
  {
   "cell_type": "code",
   "execution_count": 26,
   "metadata": {},
   "outputs": [
    {
     "ename": "TypeError",
     "evalue": "in user code:\n\n    File \"/Users/sebastiansukiennik/.pyenv/versions/3.9.6/envs/USDJPY_prediction/lib/python3.9/site-packages/keras/engine/training.py\", line 1160, in train_function  *\n        return step_function(self, iterator)\n    File \"/Users/sebastiansukiennik/.pyenv/versions/3.9.6/envs/USDJPY_prediction/lib/python3.9/site-packages/keras/engine/training.py\", line 1146, in step_function  **\n        outputs = model.distribute_strategy.run(run_step, args=(data,))\n    File \"/Users/sebastiansukiennik/.pyenv/versions/3.9.6/envs/USDJPY_prediction/lib/python3.9/site-packages/keras/engine/training.py\", line 1135, in run_step  **\n        outputs = model.train_step(data)\n    File \"/Users/sebastiansukiennik/.pyenv/versions/3.9.6/envs/USDJPY_prediction/lib/python3.9/site-packages/keras/engine/training.py\", line 993, in train_step\n        y_pred = self(x, training=True)\n    File \"/Users/sebastiansukiennik/.pyenv/versions/3.9.6/envs/USDJPY_prediction/lib/python3.9/site-packages/keras/utils/traceback_utils.py\", line 70, in error_handler\n        raise e.with_traceback(filtered_tb) from None\n    File \"/var/folders/zl/2j8hfjw54ks5_8wbg_vxj07c0000gn/T/__autograph_generated_filepvnueb_n.py\", line 13, in tf__call\n        x = ag__.converted_call(ag__.ld(self).input_layer, (ag__.ld(inputs),), None, fscope)\n\n    TypeError: Exception encountered when calling layer \"usdjpy_model_2\" \"                 f\"(type USDJPYModel).\n    \n    in user code:\n    \n        File \"/var/folders/zl/2j8hfjw54ks5_8wbg_vxj07c0000gn/T/ipykernel_1876/420184061.py\", line 20, in call  *\n            x = self.input_layer(inputs)\n    \n        TypeError: 'KerasTensor' object is not callable\n    \n    \n    Call arguments received by layer \"usdjpy_model_2\" \"                 f\"(type USDJPYModel):\n      • inputs={'Adj_Close': 'tf.Tensor(shape=(None,), dtype=float32)', 'Close': 'tf.Tensor(shape=(None,), dtype=float32)', 'High': 'tf.Tensor(shape=(None,), dtype=float32)', 'Low': 'tf.Tensor(shape=(None,), dtype=float32)', 'Open': 'tf.Tensor(shape=(None,), dtype=float32)', 'Volume': 'tf.Tensor(shape=(None,), dtype=int64)', 'Close_sma_20': 'tf.Tensor(shape=(None,), dtype=float32)', 'Close_sma_50': 'tf.Tensor(shape=(None,), dtype=float32)', 'Close_sma_800': 'tf.Tensor(shape=(None,), dtype=float32)', 'Close_sma_120': 'tf.Tensor(shape=(None,), dtype=float32)', 'Close_sma_150': 'tf.Tensor(shape=(None,), dtype=float32)', 'Close_ema_20': 'tf.Tensor(shape=(None,), dtype=float32)', 'Close_ema_50': 'tf.Tensor(shape=(None,), dtype=float32)', 'Close_ema_800': 'tf.Tensor(shape=(None,), dtype=float32)', 'Close_ema_120': 'tf.Tensor(shape=(None,), dtype=float32)', 'Close_ema_150': 'tf.Tensor(shape=(None,), dtype=float32)', 'Close_rsi': 'tf.Tensor(shape=(None,), dtype=float32)', 'Close_MACD_12_26': 'tf.Tensor(shape=(None,), dtype=float32)', 'Close_MACD_sign_12_26': 'tf.Tensor(shape=(None,), dtype=float32)', 'Close_MACD_diff_12_26': 'tf.Tensor(shape=(None,), dtype=float32)', 'Year': 'tf.Tensor(shape=(None,), dtype=int64)', 'Month': 'tf.Tensor(shape=(None,), dtype=float32)', 'Weekday': 'tf.Tensor(shape=(None,), dtype=float32)', 'Day': 'tf.Tensor(shape=(None,), dtype=float32)', 'Hour': 'tf.Tensor(shape=(None,), dtype=float32)', 'Minute': 'tf.Tensor(shape=(None,), dtype=float32)', 'Candle_body': 'tf.Tensor(shape=(None,), dtype=float32)', 'Candle_wick': 'tf.Tensor(shape=(None,), dtype=float32)', 'Candle_body_wick': 'tf.Tensor(shape=(None,), dtype=float32)', 'target_1': 'tf.Tensor(shape=(None,), dtype=float32)', 'target_2': 'tf.Tensor(shape=(None,), dtype=int64)'}\n",
     "output_type": "error",
     "traceback": [
      "\u001b[0;31m---------------------------------------------------------------------------\u001b[0m",
      "\u001b[0;31mTypeError\u001b[0m                                 Traceback (most recent call last)",
      "Cell \u001b[0;32mIn [26], line 1\u001b[0m\n\u001b[0;32m----> 1\u001b[0m model\u001b[39m.\u001b[39;49mfit(train)\n",
      "File \u001b[0;32m~/.pyenv/versions/3.9.6/envs/USDJPY_prediction/lib/python3.9/site-packages/keras/utils/traceback_utils.py:70\u001b[0m, in \u001b[0;36mfilter_traceback.<locals>.error_handler\u001b[0;34m(*args, **kwargs)\u001b[0m\n\u001b[1;32m     67\u001b[0m     filtered_tb \u001b[39m=\u001b[39m _process_traceback_frames(e\u001b[39m.\u001b[39m__traceback__)\n\u001b[1;32m     68\u001b[0m     \u001b[39m# To get the full stack trace, call:\u001b[39;00m\n\u001b[1;32m     69\u001b[0m     \u001b[39m# `tf.debugging.disable_traceback_filtering()`\u001b[39;00m\n\u001b[0;32m---> 70\u001b[0m     \u001b[39mraise\u001b[39;00m e\u001b[39m.\u001b[39mwith_traceback(filtered_tb) \u001b[39mfrom\u001b[39;00m \u001b[39mNone\u001b[39m\n\u001b[1;32m     71\u001b[0m \u001b[39mfinally\u001b[39;00m:\n\u001b[1;32m     72\u001b[0m     \u001b[39mdel\u001b[39;00m filtered_tb\n",
      "File \u001b[0;32m/var/folders/zl/2j8hfjw54ks5_8wbg_vxj07c0000gn/T/__autograph_generated_file2jody8xz.py:15\u001b[0m, in \u001b[0;36mouter_factory.<locals>.inner_factory.<locals>.tf__train_function\u001b[0;34m(iterator)\u001b[0m\n\u001b[1;32m     13\u001b[0m \u001b[39mtry\u001b[39;00m:\n\u001b[1;32m     14\u001b[0m     do_return \u001b[39m=\u001b[39m \u001b[39mTrue\u001b[39;00m\n\u001b[0;32m---> 15\u001b[0m     retval_ \u001b[39m=\u001b[39m ag__\u001b[39m.\u001b[39mconverted_call(ag__\u001b[39m.\u001b[39mld(step_function), (ag__\u001b[39m.\u001b[39mld(\u001b[39mself\u001b[39m), ag__\u001b[39m.\u001b[39mld(iterator)), \u001b[39mNone\u001b[39;00m, fscope)\n\u001b[1;32m     16\u001b[0m \u001b[39mexcept\u001b[39;00m:\n\u001b[1;32m     17\u001b[0m     do_return \u001b[39m=\u001b[39m \u001b[39mFalse\u001b[39;00m\n",
      "File \u001b[0;32m/var/folders/zl/2j8hfjw54ks5_8wbg_vxj07c0000gn/T/__autograph_generated_filepvnueb_n.py:13\u001b[0m, in \u001b[0;36mouter_factory.<locals>.inner_factory.<locals>.tf__call\u001b[0;34m(self, inputs)\u001b[0m\n\u001b[1;32m     11\u001b[0m do_return \u001b[39m=\u001b[39m \u001b[39mFalse\u001b[39;00m\n\u001b[1;32m     12\u001b[0m retval_ \u001b[39m=\u001b[39m ag__\u001b[39m.\u001b[39mUndefinedReturnValue()\n\u001b[0;32m---> 13\u001b[0m x \u001b[39m=\u001b[39m ag__\u001b[39m.\u001b[39mconverted_call(ag__\u001b[39m.\u001b[39mld(\u001b[39mself\u001b[39m)\u001b[39m.\u001b[39minput_layer, (ag__\u001b[39m.\u001b[39mld(inputs),), \u001b[39mNone\u001b[39;00m, fscope)\n\u001b[1;32m     14\u001b[0m x \u001b[39m=\u001b[39m ag__\u001b[39m.\u001b[39mconverted_call(ag__\u001b[39m.\u001b[39mld(\u001b[39mself\u001b[39m)\u001b[39m.\u001b[39mfirst_dense, (ag__\u001b[39m.\u001b[39mld(x),), \u001b[39mNone\u001b[39;00m, fscope)\n\u001b[1;32m     15\u001b[0m x \u001b[39m=\u001b[39m ag__\u001b[39m.\u001b[39mconverted_call(ag__\u001b[39m.\u001b[39mld(\u001b[39mself\u001b[39m)\u001b[39m.\u001b[39msecond_dense, (ag__\u001b[39m.\u001b[39mld(x),), \u001b[39mNone\u001b[39;00m, fscope)\n",
      "\u001b[0;31mTypeError\u001b[0m: in user code:\n\n    File \"/Users/sebastiansukiennik/.pyenv/versions/3.9.6/envs/USDJPY_prediction/lib/python3.9/site-packages/keras/engine/training.py\", line 1160, in train_function  *\n        return step_function(self, iterator)\n    File \"/Users/sebastiansukiennik/.pyenv/versions/3.9.6/envs/USDJPY_prediction/lib/python3.9/site-packages/keras/engine/training.py\", line 1146, in step_function  **\n        outputs = model.distribute_strategy.run(run_step, args=(data,))\n    File \"/Users/sebastiansukiennik/.pyenv/versions/3.9.6/envs/USDJPY_prediction/lib/python3.9/site-packages/keras/engine/training.py\", line 1135, in run_step  **\n        outputs = model.train_step(data)\n    File \"/Users/sebastiansukiennik/.pyenv/versions/3.9.6/envs/USDJPY_prediction/lib/python3.9/site-packages/keras/engine/training.py\", line 993, in train_step\n        y_pred = self(x, training=True)\n    File \"/Users/sebastiansukiennik/.pyenv/versions/3.9.6/envs/USDJPY_prediction/lib/python3.9/site-packages/keras/utils/traceback_utils.py\", line 70, in error_handler\n        raise e.with_traceback(filtered_tb) from None\n    File \"/var/folders/zl/2j8hfjw54ks5_8wbg_vxj07c0000gn/T/__autograph_generated_filepvnueb_n.py\", line 13, in tf__call\n        x = ag__.converted_call(ag__.ld(self).input_layer, (ag__.ld(inputs),), None, fscope)\n\n    TypeError: Exception encountered when calling layer \"usdjpy_model_2\" \"                 f\"(type USDJPYModel).\n    \n    in user code:\n    \n        File \"/var/folders/zl/2j8hfjw54ks5_8wbg_vxj07c0000gn/T/ipykernel_1876/420184061.py\", line 20, in call  *\n            x = self.input_layer(inputs)\n    \n        TypeError: 'KerasTensor' object is not callable\n    \n    \n    Call arguments received by layer \"usdjpy_model_2\" \"                 f\"(type USDJPYModel):\n      • inputs={'Adj_Close': 'tf.Tensor(shape=(None,), dtype=float32)', 'Close': 'tf.Tensor(shape=(None,), dtype=float32)', 'High': 'tf.Tensor(shape=(None,), dtype=float32)', 'Low': 'tf.Tensor(shape=(None,), dtype=float32)', 'Open': 'tf.Tensor(shape=(None,), dtype=float32)', 'Volume': 'tf.Tensor(shape=(None,), dtype=int64)', 'Close_sma_20': 'tf.Tensor(shape=(None,), dtype=float32)', 'Close_sma_50': 'tf.Tensor(shape=(None,), dtype=float32)', 'Close_sma_800': 'tf.Tensor(shape=(None,), dtype=float32)', 'Close_sma_120': 'tf.Tensor(shape=(None,), dtype=float32)', 'Close_sma_150': 'tf.Tensor(shape=(None,), dtype=float32)', 'Close_ema_20': 'tf.Tensor(shape=(None,), dtype=float32)', 'Close_ema_50': 'tf.Tensor(shape=(None,), dtype=float32)', 'Close_ema_800': 'tf.Tensor(shape=(None,), dtype=float32)', 'Close_ema_120': 'tf.Tensor(shape=(None,), dtype=float32)', 'Close_ema_150': 'tf.Tensor(shape=(None,), dtype=float32)', 'Close_rsi': 'tf.Tensor(shape=(None,), dtype=float32)', 'Close_MACD_12_26': 'tf.Tensor(shape=(None,), dtype=float32)', 'Close_MACD_sign_12_26': 'tf.Tensor(shape=(None,), dtype=float32)', 'Close_MACD_diff_12_26': 'tf.Tensor(shape=(None,), dtype=float32)', 'Year': 'tf.Tensor(shape=(None,), dtype=int64)', 'Month': 'tf.Tensor(shape=(None,), dtype=float32)', 'Weekday': 'tf.Tensor(shape=(None,), dtype=float32)', 'Day': 'tf.Tensor(shape=(None,), dtype=float32)', 'Hour': 'tf.Tensor(shape=(None,), dtype=float32)', 'Minute': 'tf.Tensor(shape=(None,), dtype=float32)', 'Candle_body': 'tf.Tensor(shape=(None,), dtype=float32)', 'Candle_wick': 'tf.Tensor(shape=(None,), dtype=float32)', 'Candle_body_wick': 'tf.Tensor(shape=(None,), dtype=float32)', 'target_1': 'tf.Tensor(shape=(None,), dtype=float32)', 'target_2': 'tf.Tensor(shape=(None,), dtype=int64)'}\n"
     ]
    }
   ],
   "source": [
    "model.fit(train)"
   ]
  },
  {
   "cell_type": "code",
   "execution_count": null,
   "metadata": {},
   "outputs": [],
   "source": []
  }
 ],
 "metadata": {
  "kernelspec": {
   "display_name": "Python 3.9.6 64-bit ('USDJPY_prediction')",
   "language": "python",
   "name": "python3"
  },
  "language_info": {
   "codemirror_mode": {
    "name": "ipython",
    "version": 3
   },
   "file_extension": ".py",
   "mimetype": "text/x-python",
   "name": "python",
   "nbconvert_exporter": "python",
   "pygments_lexer": "ipython3",
   "version": "3.9.6"
  },
  "orig_nbformat": 4,
  "vscode": {
   "interpreter": {
    "hash": "c55c11c8d395e7788b65104820bfc7eb1a9bb806909232b281f767e4da158b87"
   }
  }
 },
 "nbformat": 4,
 "nbformat_minor": 2
}
